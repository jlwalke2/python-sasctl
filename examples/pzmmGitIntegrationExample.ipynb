{
 "cells": [
  {
   "cell_type": "markdown",
   "metadata": {},
   "source": [
    "# Using GIT with SASCLT/PZMM\n",
    "[Git](https://git-scm.com/) is a free and open source distributed version control system designed to handle everything from small to very large projects with speed and efficiency. Many organizations use Git for tracking changes in files and collaborating on code. In this notebook, we will walk through how to leverage SASCTL/PZMM to move assets from [SAS Model Manager](https://www.sas.com/en_us/software/model-manager.html) to a Git Repository. \n",
    "***\n",
    "## Getting Started\n",
    "To leverage the new Git functionality, we will need a Git repository! If you don't currently use Git, you will need to download and install it. You can [download Git here](https://git-scm.com/downloads). (Want to learn more about using Git? Then I suggest checking out [this book](https://git-scm.com/book/en/v2).)  Next, we need a local repository. From within Git Bash, move to where you want the local repository to be. We will initialize our local git repository using \n",
    "\n",
    "`git init`\n",
    "\n",
    "If we want to add a remote origin, such as to a repository on GitHub, we can also do that within our Git Bash\n",
    "\n",
    "`git remote add origin your-remote-repo`\n",
    "\n",
    "Now, we are ready to get started in our notebook. Let's install the necessary packages. "
   ]
  },
  {
   "cell_type": "code",
   "execution_count": 1,
   "metadata": {},
   "outputs": [],
   "source": [
    "from sasctl import Session, pzmm\n",
    "from pathlib import Path\n",
    "import getpass"
   ]
  },
  {
   "cell_type": "markdown",
   "metadata": {},
   "source": [
    "Next, let’s specify the location of our local git repository. "
   ]
  },
  {
   "cell_type": "code",
   "execution_count": 2,
   "metadata": {},
   "outputs": [
    {
     "name": "stdout",
     "output_type": "stream",
     "text": []
    }
   ],
   "source": [
    "path = input('Local Git Repo Path: ')\n",
    "gPath = Path(path)"
   ]
  },
  {
   "cell_type": "markdown",
   "metadata": {},
   "source": [
    "Now, let’s create our session to SAS Viya. "
   ]
  },
  {
   "cell_type": "code",
   "execution_count": 15,
   "metadata": {},
   "outputs": [
    {
     "name": "stdout",
     "output_type": "stream",
     "text": []
    }
   ],
   "source": [
    "server = input('Server Name: ')\n",
    "username = input('Username: ')\n",
    "password = getpass.getpass('Password')\n",
    "sess = Session(server, username, password, protocol='http')"
   ]
  },
  {
   "cell_type": "markdown",
   "metadata": {},
   "source": [
    "***\n",
    "## Git Integration\n",
    "Let's initialize our integration with git."
   ]
  },
  {
   "cell_type": "code",
   "execution_count": 8,
   "metadata": {},
   "outputs": [],
   "source": [
    "GI = pzmm.GitIntegrate()"
   ]
  },
  {
   "cell_type": "markdown",
   "metadata": {},
   "source": [
    "To pull a model from Model Manger into our local git repository, all we need is the Model UUID. "
   ]
  },
  {
   "cell_type": "code",
   "execution_count": 9,
   "metadata": {},
   "outputs": [
    {
     "name": "stdout",
     "output_type": "stream",
     "text": []
    }
   ],
   "source": [
    "modelUUID = input('Model UUID: ')\n",
    "GI.pullViyaModel(modelUUID, gPath)"
   ]
  },
  {
   "cell_type": "markdown",
   "metadata": {},
   "source": [
    "We could also just pull the whole project into our local git repository using it’s name. "
   ]
  },
  {
   "cell_type": "code",
   "execution_count": 10,
   "metadata": {},
   "outputs": [
    {
     "name": "stdout",
     "output_type": "stream",
     "text": []
    }
   ],
   "source": [
    "projectName = input('Project Name: ')\n",
    "GI.pullMMProject(gPath, projectName)"
   ]
  },
  {
   "cell_type": "markdown",
   "metadata": {},
   "source": [
    "Now, if we have a model in our local git repository, we can push it into SAS Model Manager. If we don't specify a project name, the model ends up in project whose name matches the name of our local repository folder. "
   ]
  },
  {
   "cell_type": "code",
   "execution_count": 17,
   "metadata": {},
   "outputs": [
    {
     "name": "stdout",
     "output_type": "stream",
     "text": []
    }
   ],
   "source": [
    "localModel = input('Local Model: ')\n",
    "GI.pushGitModel(gPath / localModel)"
   ]
  },
  {
   "cell_type": "markdown",
   "metadata": {},
   "source": [
    "Finally, let’s get our local repository synced with our remote repository. To pull all changes from our remote repo into our local repo we can issue a pull. "
   ]
  },
  {
   "cell_type": "code",
   "execution_count": 19,
   "metadata": {},
   "outputs": [],
   "source": [
    "GI.gitRepoPull(gPath)"
   ]
  },
  {
   "cell_type": "markdown",
   "metadata": {},
   "source": [
    "We can also push our changes from our local repository back up to our remote repository.  "
   ]
  },
  {
   "cell_type": "code",
   "execution_count": 20,
   "metadata": {},
   "outputs": [],
   "source": [
    "GI.gitRepoPush(gPath, 'Pushing Local Changes to Remote Repo')"
   ]
  },
  {
   "cell_type": "markdown",
   "metadata": {},
   "source": [
    "We can now move models and assets between a local git repo, a remote git repo, and SAS Model Manager with ease! Organizations can continue to leverage git for managing source code and for utilizing GitOps processes, but they can seamlessly integrate with SAS Model Manager for the governance, care, monitoring, and management that healthy models need. \n",
    "*** "
   ]
  }
 ],
 "metadata": {
  "kernelspec": {
   "display_name": "Python 3 (ipykernel)",
   "language": "python",
   "name": "python3"
  },
  "language_info": {
   "codemirror_mode": {
    "name": "ipython",
    "version": 3
   },
   "file_extension": ".py",
   "mimetype": "text/x-python",
   "name": "python",
   "nbconvert_exporter": "python",
   "pygments_lexer": "ipython3",
   "version": "3.8.16"
  }
 },
 "nbformat": 4,
 "nbformat_minor": 4
}
